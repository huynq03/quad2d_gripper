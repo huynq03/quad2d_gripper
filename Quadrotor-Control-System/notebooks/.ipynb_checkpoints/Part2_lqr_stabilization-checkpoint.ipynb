{
 "cells": [
  {
   "cell_type": "code",
   "execution_count": 1,
   "id": "2b41aa53",
   "metadata": {},
   "outputs": [
    {
     "name": "stdout",
     "output_type": "stream",
     "text": [
      "(1001, 6) (6, 1001)\n",
      "(1001, 6) (6, 1001)\n"
     ]
    },
    {
     "data": {
      "image/png": "[encoded data removed]",
      "text/plain": [
       "<Figure size 640x480 with 1 Axes>"
      ]
     },
     "metadata": {},
     "output_type": "display_data"
    }
   ],
   "source": [
    "from __future__ import print_function\n",
    "import numpy as np\n",
    "import matplotlib.pyplot as plt\n",
    "import numpy.linalg as lin\n",
    "import sys\n",
    "sys.path.append('../src')\n",
    "import quadrotor as qd\n",
    "import math\n",
    "\n",
    "def get_linearization(z, u):\n",
    "    z = z.reshape(-1)\n",
    "    dt = qd.DELTA_T\n",
    "    m = qd.MASS\n",
    "    theta = z[4].item()\n",
    "    omega = z[5].item()\n",
    "    u0 = u[0].item()\n",
    "    u1 = u[1].item()\n",
    "    r = qd.LENGTH\n",
    "    I = qd.INERTIA\n",
    "    A = np.array([[1., dt, 0., 0., 0., 0.],\n",
    "                    [0., 1., 0., 0., dt * (math.cos(theta) * (-u0 - u1)) / m, 0.],\n",
    "                    [0., 0., 1., dt, 0., 0.],\n",
    "                    [0., 0., 0., 1., -dt * (math.sin(theta) * (-u0 - u1)) / m, 0.],\n",
    "                    [0., 0., 0., 0., 1., dt],\n",
    "                    [0., 0., 0., 0., 0., 1.]])\n",
    "\n",
    "    B = np.array([[0., 0.],\n",
    "                    [-dt * (math.sin(theta) / m), -dt * (math.sin(theta) / m)],\n",
    "                    [0., 0.],\n",
    "                    [dt * (math.cos(theta) / m), dt * (math.cos(theta) / m)],\n",
    "                    [0., 0.],\n",
    "                    [(dt * r) / I, -(dt * r) / I]])\n",
    "\n",
    "    return A, B\n",
    "\n",
    "horizon_length = 1000\n",
    "N = 1000\n",
    "u_ = qd.MASS*qd.GRAVITY/2\n",
    "z0 = np.array([1,0,0,0,0,0]).reshape([6,])\n",
    "u0 = u_ * np.ones([2,1])\n",
    "o = (2*math.pi/10)\n",
    "r = 1\n",
    "T = 10\n",
    "\n",
    "\n",
    "x_desired = [0 for i in range(0,N+1)]\n",
    "y_desired = [0 for i in range(0,N+1)]\n",
    "vx_desired = [0 for i in range(0,N+1)]\n",
    "vy_desired = [0 for i in range(0,N+1)]\n",
    "theta_desried = [0 for i in range(0,N+1)]\n",
    "omega_desried = [0 for i in range(0,N+1)]\n",
    "\n",
    "\n",
    "\n",
    "state_desired = np.array([x_desired,vx_desired,y_desired,vy_desired,theta_desried,omega_desried])\n",
    "ref_traj = state_desired.T\n",
    "print(ref_traj.shape,state_desired.shape)\n",
    "\n",
    "\n",
    "\n",
    "z0 = np.zeros_like(state_desired[:,0])\n",
    "u_init = [(qd.MASS * qd.GRAVITY / 2) * np.ones([2]) for _ in range(horizon_length)]\n",
    "print(ref_traj.shape,state_desired.shape)\n",
    "\n",
    "plt.figure()\n",
    "plt.scatter(x_desired,y_desired)\n",
    "\n",
    "plt.show()\n"
   ]
  },
  {
   "cell_type": "code",
   "execution_count": 2,
   "id": "37f93c8d",
   "metadata": {},
   "outputs": [
    {
     "data": {
      "text/plain": [
       "array([[ 1.    ,  0.01  ,  0.    ,  0.    ,  0.    ,  0.    ],\n",
       "       [ 0.    ,  1.    ,  0.    ,  0.    , -0.0981,  0.    ],\n",
       "       [ 0.    ,  0.    ,  1.    ,  0.01  ,  0.    ,  0.    ],\n",
       "       [ 0.    ,  0.    ,  0.    ,  1.    ,  0.    ,  0.    ],\n",
       "       [ 0.    ,  0.    ,  0.    ,  0.    ,  1.    ,  0.01  ],\n",
       "       [ 0.    ,  0.    ,  0.    ,  0.    ,  0.    ,  1.    ]])"
      ]
     },
     "execution_count": 2,
     "metadata": {},
     "output_type": "execute_result"
    }
   ],
   "source": [
    "A, B = get_linearization(np.zeros(6),u0) \n",
    "A"
   ]
  },
  {
   "cell_type": "code",
   "execution_count": 3,
   "id": "3f6dd9db",
   "metadata": {},
   "outputs": [],
   "source": [
    "Q = np.diag([1, 1, 1, 1, 1, 1])\n",
    "R = np.diag([0.01, 0.01])\n",
    "P_last = Q\n",
    "\n",
    "\n",
    "while True:\n",
    "    Pnew = Q + A.transpose().dot(P_last).dot(A) - A.transpose().dot(P_last).dot(B).dot(np.linalg.inv(B.transpose().dot(P_last).dot(B)+R)).dot(B.transpose().dot(P_last).dot(A))\n",
    "    err = Pnew.reshape(-1) - P_last.reshape(-1)\n",
    "    err = np.sum(err @ err.T)\n",
    "    if err < 0.00011:\n",
    "        break\n",
    "    else:\n",
    "        P_last = Pnew\n",
    "\n",
    "K = -np.identity(2).dot(np.linalg.inv(B.transpose().dot(P_last).dot(B)+R)).dot(B.transpose().dot(P_last).dot(A))"
   ]
  },
  {
   "cell_type": "code",
   "execution_count": 4,
   "id": "917a3df5",
   "metadata": {},
   "outputs": [
    {
     "name": "stdout",
     "output_type": "stream",
     "text": [
      "CPU times: user 20.2 ms, sys: 3.09 ms, total: 23.3 ms\n",
      "Wall time: 20.9 ms\n"
     ]
    }
   ],
   "source": [
    "%%time\n",
    "\n",
    "def lqr_controller(state,i):\n",
    "    ut = K.dot(state) + u_init[0]\n",
    "    return ut.T\n",
    "t, state, u = qd.simulate(z0,lqr_controller, horizon_length, disturbance = True)\n",
    "\n"
   ]
  },
  {
   "cell_type": "code",
   "execution_count": null,
   "id": "d3189276",
   "metadata": {},
   "outputs": [],
   "source": [
    "\n",
    "# we can plot the results\n",
    "plt.figure(figsize=[9,6])\n",
    "\n",
    "plt.subplot(2,3,1)\n",
    "plt.plot(t, state[0,:])\n",
    "plt.plot(t, state_desired[0,:])\n",
    "plt.legend(['X'])\n",
    "\n",
    "plt.subplot(2,3,2)\n",
    "plt.plot(t, state[2,:])\n",
    "plt.plot(t, state_desired[2,:])\n",
    "plt.legend(['Y'])\n",
    "\n",
    "plt.subplot(2,3,3)\n",
    "plt.plot(t, state[4,:])\n",
    "plt.plot(t, state_desired[4,:])\n",
    "plt.legend([\"theta\"])\n",
    "\n",
    "plt.subplot(2,3,4)\n",
    "plt.plot(t, state[1,:])\n",
    "plt.plot(t, state_desired[1,:])\n",
    "plt.legend(['Vx'])\n",
    "plt.xlabel('Time [s]')\n",
    "\n",
    "plt.subplot(2,3,5)\n",
    "plt.plot(t, state[3,:])\n",
    "plt.plot(t, state_desired[3,:])\n",
    "plt.legend(['Vy'])\n",
    "plt.xlabel('Time [s]')\n",
    "\n",
    "plt.subplot(2,3,6)\n",
    "plt.plot(t, state[5,:])\n",
    "plt.plot(t, state_desired[5,:])\n",
    "plt.legend(['omega'])\n",
    "plt.xlabel('Time [s]')\n",
    "\n",
    "# we can also plot the control\n",
    "plt.figure()\n",
    "plt.plot(t[:-1], u.T)\n",
    "plt.legend(['u1', 'u2'])\n",
    "plt.xlabel('Time [s]')\n",
    "qd.animate_robot(state,u)"
   ]
  }
 ],
 "metadata": {
  "kernelspec": {
   "display_name": "Python 3 (ipykernel)",
   "language": "python",
   "name": "python3"
  },
  "language_info": {
   "codemirror_mode": {
    "name": "ipython",
    "version": 3
   },
   "file_extension": ".py",
   "mimetype": "text/x-python",
   "name": "python",
   "nbconvert_exporter": "python",
   "pygments_lexer": "ipython3",
   "version": "3.10.7"
  },
  "vscode": {
   "interpreter": {
    "hash": "aee8b7b246df8f9039afb4144a1f6fd8d2ca17a180786b69acc140d282b71a49"
   }
  }
 },
 "nbformat": 4,
 "nbformat_minor": 5
}
